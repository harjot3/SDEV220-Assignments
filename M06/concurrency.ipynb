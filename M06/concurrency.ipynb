{
 "cells": [
  {
   "cell_type": "markdown",
   "metadata": {},
   "source": [
    "13.1 Write the current date as a string to the text file today.txt."
   ]
  },
  {
   "cell_type": "code",
   "execution_count": 21,
   "metadata": {},
   "outputs": [
    {
     "name": "stdout",
     "output_type": "stream",
     "text": [
      "July 16, 2024\n"
     ]
    }
   ],
   "source": [
    "file = open(\"today.txt\", \"a\")\n",
    "file.write(\"July 16, 2024\")\n",
    "file.close()\n",
    "\n",
    "file = open(\"today.txt\", \"r\")\n",
    "print(file.read())"
   ]
  },
  {
   "cell_type": "markdown",
   "metadata": {},
   "source": [
    "13.2 Read the text file today.txt into the string today_string."
   ]
  },
  {
   "cell_type": "code",
   "execution_count": 22,
   "metadata": {},
   "outputs": [
    {
     "name": "stdout",
     "output_type": "stream",
     "text": [
      "The first line of the file is: July 16, 2024\n"
     ]
    }
   ],
   "source": [
    "with open('today.txt', 'r') as file:\n",
    "        # Read the first line of the file\n",
    "        today_string = file.readline().strip()  # .strip() removes any trailing newline characters\n",
    "\n",
    "print(f\"The first line of the file is: {today_string}\")"
   ]
  },
  {
   "cell_type": "markdown",
   "metadata": {},
   "source": [
    "13.3 Parse the date from today_string."
   ]
  },
  {
   "cell_type": "code",
   "execution_count": 23,
   "metadata": {},
   "outputs": [
    {
     "name": "stdout",
     "output_type": "stream",
     "text": [
      "['July 16', ' 2024']\n"
     ]
    }
   ],
   "source": [
    "today_string = today_string.split(\",\")\n",
    "print(today_string)"
   ]
  },
  {
   "cell_type": "markdown",
   "metadata": {},
   "source": [
    "15.1 Use multiprocessing to create three separate processes. Make each one wait a random number of seconds between zero and one, print the current time, and then exit."
   ]
  },
  {
   "cell_type": "code",
   "execution_count": 24,
   "metadata": {},
   "outputs": [
    {
     "name": "stdout",
     "output_type": "stream",
     "text": [
      "Process started at 21:25:25\n",
      "Process Worker-2 exiting.\n",
      "Process started at 21:25:25\n",
      "Process Worker-1 exiting.\n",
      "Process started at 21:25:25\n",
      "Process Worker-3 exiting.\n"
     ]
    }
   ],
   "source": [
    "import multiprocessing\n",
    "from worker_module import worker\n",
    "\n",
    "if __name__ == '__main__':\n",
    "\n",
    "    processes = []\n",
    "    for i in range(3):\n",
    "\n",
    "        p = multiprocessing.Process(target=worker, name=f\"Worker-{i+1}\")\n",
    "        processes.append(p)\n",
    "        p.start()\n",
    "\n",
    "\n",
    "    for p in processes:\n",
    "        p.join()\n"
   ]
  }
 ],
 "metadata": {
  "kernelspec": {
   "display_name": "Python 3",
   "language": "python",
   "name": "python3"
  },
  "language_info": {
   "codemirror_mode": {
    "name": "ipython",
    "version": 3
   },
   "file_extension": ".py",
   "mimetype": "text/x-python",
   "name": "python",
   "nbconvert_exporter": "python",
   "pygments_lexer": "ipython3",
   "version": "3.11.3"
  }
 },
 "nbformat": 4,
 "nbformat_minor": 2
}
